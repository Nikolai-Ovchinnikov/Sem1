{
 "cells": [
  {
   "cell_type": "code",
   "execution_count": null,
   "id": "92c28120-caf0-4a49-81d4-ccee452826a7",
   "metadata": {},
   "outputs": [],
   "source": [
    "class transport():\n",
    "    def __init__(self,name,speed):\n",
    "        self.name = name\n",
    "        self.speed = speed\n",
    "    def poehali(self):\n",
    "        print(f' едем на {name} со скоростью {speed} километров в час.')\n",
    "class avto(transport):\n",
    "     def __init__(self,name,speed,rashod,fuel,rasst):\n",
    "         super().__init__(name,speed)\n",
    "        self.rashod = rashod\n",
    "        self.fuel = fuel\n",
    "        self.rasst = rasst\n",
    "    def ezda(self):\n",
    "        self.fuel-=rashod\n",
    "        self.rasst+=100\n",
    "        print(f'Проехали сто километров, затратили {rash} литров бензина, осталось {fuel} литров.)\n"
   ]
  }
 ],
 "metadata": {
  "kernelspec": {
   "display_name": "Python 3 (ipykernel)",
   "language": "python",
   "name": "python3"
  },
  "language_info": {
   "codemirror_mode": {
    "name": "ipython",
    "version": 3
   },
   "file_extension": ".py",
   "mimetype": "text/x-python",
   "name": "python",
   "nbconvert_exporter": "python",
   "pygments_lexer": "ipython3",
   "version": "3.12.4"
  }
 },
 "nbformat": 4,
 "nbformat_minor": 5
}

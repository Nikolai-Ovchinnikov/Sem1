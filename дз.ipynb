{
 "cells": [
  {
   "cell_type": "code",
   "execution_count": 44,
   "id": "7e0277b2-ff26-4095-bb8d-d0156177cb5b",
   "metadata": {},
   "outputs": [
    {
     "name": "stdout",
     "output_type": "stream",
     "text": [
      "халявы не будет!\n",
      "будет отл(<bound method dekor.<locals>.ocenka of <__main__.predmet object at 0x000002194F775CA0>>)\n"
     ]
    }
   ],
   "source": [
    "from random import*\n",
    "def dekor(clas):\n",
    "    def ocenka(self):\n",
    "        print(randint(1,10))\n",
    "    clas.ocenka = ocenka\n",
    "    return clas\n",
    "def dekorat(method):\n",
    "    def registr(self):\n",
    "        method(self)\n",
    "        print(f'будет отл({self.ocenka})')\n",
    "    return registr  \n",
    "@dekor\n",
    "class predmet:\n",
    "    def __init__(self,name,slozh,prep):\n",
    "        self.name = name\n",
    "        self.slozh = slozh\n",
    "        self.prep = prep\n",
    "    \n",
    "    @dekorat\n",
    "    def halyavnost(self):\n",
    "        print('халявы не будет!')\n",
    "pred = predmet('matan',12,'urlov')\n",
    "pred.halyavnost()\n"
   ]
  },
  {
   "cell_type": "code",
   "execution_count": null,
   "id": "e597b7c6-ed73-437b-837c-925a71c57f3f",
   "metadata": {},
   "outputs": [],
   "source": []
  }
 ],
 "metadata": {
  "kernelspec": {
   "display_name": "Python 3 (ipykernel)",
   "language": "python",
   "name": "python3"
  },
  "language_info": {
   "codemirror_mode": {
    "name": "ipython",
    "version": 3
   },
   "file_extension": ".py",
   "mimetype": "text/x-python",
   "name": "python",
   "nbconvert_exporter": "python",
   "pygments_lexer": "ipython3",
   "version": "3.12.4"
  }
 },
 "nbformat": 4,
 "nbformat_minor": 5
}

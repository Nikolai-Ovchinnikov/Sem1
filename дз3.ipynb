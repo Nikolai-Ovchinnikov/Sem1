{
 "cells": [
  {
   "cell_type": "code",
   "execution_count": 3,
   "id": "af9380c0-eb4c-4012-a235-f147ed2c89f8",
   "metadata": {},
   "outputs": [
    {
     "name": "stdout",
     "output_type": "stream",
     "text": [
      "Requirement already satisfied: matplotlib in c:\\users\\tulen\\anaconda3\\lib\\site-packages (3.8.4)\n",
      "Requirement already satisfied: contourpy>=1.0.1 in c:\\users\\tulen\\anaconda3\\lib\\site-packages (from matplotlib) (1.2.0)\n",
      "Requirement already satisfied: cycler>=0.10 in c:\\users\\tulen\\anaconda3\\lib\\site-packages (from matplotlib) (0.11.0)\n",
      "Requirement already satisfied: fonttools>=4.22.0 in c:\\users\\tulen\\anaconda3\\lib\\site-packages (from matplotlib) (4.51.0)\n",
      "Requirement already satisfied: kiwisolver>=1.3.1 in c:\\users\\tulen\\anaconda3\\lib\\site-packages (from matplotlib) (1.4.4)\n",
      "Requirement already satisfied: numpy>=1.21 in c:\\users\\tulen\\anaconda3\\lib\\site-packages (from matplotlib) (1.26.4)\n",
      "Requirement already satisfied: packaging>=20.0 in c:\\users\\tulen\\anaconda3\\lib\\site-packages (from matplotlib) (23.2)\n",
      "Requirement already satisfied: pillow>=8 in c:\\users\\tulen\\anaconda3\\lib\\site-packages (from matplotlib) (10.3.0)\n",
      "Requirement already satisfied: pyparsing>=2.3.1 in c:\\users\\tulen\\anaconda3\\lib\\site-packages (from matplotlib) (3.0.9)\n",
      "Requirement already satisfied: python-dateutil>=2.7 in c:\\users\\tulen\\anaconda3\\lib\\site-packages (from matplotlib) (2.9.0.post0)\n",
      "Requirement already satisfied: six>=1.5 in c:\\users\\tulen\\anaconda3\\lib\\site-packages (from python-dateutil>=2.7->matplotlib) (1.16.0)\n"
     ]
    }
   ],
   "source": [
    "import numpy as np\n",
    "import copy\n",
    "a = [1,2,3,4]\n",
    "b = ['n','u','h','o']\n",
    "#print(list(zip(a,b)))\n",
    "#fillvalue - ключ для заполненияпустых соответствий\n",
    "#разные копии copy  и переприсваивание\n",
    "lista = [1,2,3,4,5]\n",
    "cop_lista = copy.copy(lista)\n",
    "lista[0]=3\n",
    "#np.linalg.det() - определитель\n",
    "#np.transpose() - транспонирование уравнений 2 аргумента 1- матрица, 2 - стобец решений\n",
    "#np.linalg.solve() - решить систему\n",
    "!python -m pip install matplotlib"
   ]
  },
  {
   "cell_type": "code",
   "execution_count": 13,
   "id": "5c8355b6-dc8b-4ee1-b5da-85a326523e8e",
   "metadata": {},
   "outputs": [
    {
     "data": {
      "image/png": "[encoded data removed]",
      "text/plain": [
       "<Figure size 640x480 with 1 Axes>"
      ]
     },
     "metadata": {},
     "output_type": "display_data"
    }
   ],
   "source": [
    "#графики\n",
    "import matplotlib.pyplot as plt\n",
    "import matplotlib.ticker as ticker\n",
    "x = [1,2,3,4,5,6]\n",
    "y = [20,30,40,50,60,70]\n",
    "#plt.xlabel('x')\n",
    "#plt.ylabel('y')\n",
    "plt.scatter(x,y)\n",
    "#plt.title('pppp')\n",
    "ax = plt.gca()\n",
    "ax.set_xlim(1,8)\n",
    "ax.set_ylim(20,70)\n",
    "ax.set_xticks([1,2,3,4,5,6,7])\n",
    "ax.set_yticks([20,30,40,50,60,70])\n",
    "plt.grid(True)\n",
    "plt.show()#визуализация "
   ]
  },
  {
   "cell_type": "code",
   "execution_count": 17,
   "id": "da8f6412-3903-4f6e-8e9f-d394ecf8301f",
   "metadata": {},
   "outputs": [
    {
     "name": "stderr",
     "output_type": "stream",
     "text": [
      "No artists with labels found to put in legend.  Note that artists whose label start with an underscore are ignored when legend() is called with no argument.\n"
     ]
    },
    {
     "data": {
      "image/png": "[encoded data removed]",
      "text/plain": [
       "<Figure size 640x480 with 1 Axes>"
      ]
     },
     "metadata": {},
     "output_type": "display_data"
    }
   ],
   "source": [
    "import matplotlib.ticker as ticker\n",
    "\n",
    "plt.scatter(x, y,color='green',marker='o')\n",
    "ax = plt.gca()\n",
    "ax.set_xlim(1, 4)\n",
    "ax.set_ylim(0, 60)\n",
    "\n",
    "ax.set_xticks([1, 2, 3, 4])\n",
    "ax.set_yticks([0, 10, 20, 30, 40, 50, 60])\n",
    "\n",
    "ax.xaxis.set_minor_locator(ticker.MultipleLocator(0.5))  # деления через 0.5 единиц\n",
    "ax.yaxis.set_minor_locator(ticker.MultipleLocator(5))  # деления через 5 единиц\n",
    "#bar - столбчатая диаграмма\n",
    "#pie - столбчатая диаграмма\n",
    "plt.legend(loc='upper right')#место расположения легенды\n",
    "plt.grid()\n",
    "plt.show()"
   ]
  },
  {
   "cell_type": "code",
   "execution_count": null,
   "id": "863aff90-8d6a-4c62-a263-430e3cd49571",
   "metadata": {},
   "outputs": [],
   "source": []
  },
  {
   "cell_type": "code",
   "execution_count": null,
   "id": "e7343434-a893-4e6e-9c6f-defa6b5cc7cb",
   "metadata": {},
   "outputs": [],
   "source": []
  },
  {
   "cell_type": "code",
   "execution_count": null,
   "id": "9d7f2959-e852-42f8-a8b0-eabeaadcac14",
   "metadata": {},
   "outputs": [],
   "source": []
  }
 ],
 "metadata": {
  "kernelspec": {
   "display_name": "Python 3 (ipykernel)",
   "language": "python",
   "name": "python3"
  },
  "language_info": {
   "codemirror_mode": {
    "name": "ipython",
    "version": 3
   },
   "file_extension": ".py",
   "mimetype": "text/x-python",
   "name": "python",
   "nbconvert_exporter": "python",
   "pygments_lexer": "ipython3",
   "version": "3.12.4"
  }
 },
 "nbformat": 4,
 "nbformat_minor": 5
}

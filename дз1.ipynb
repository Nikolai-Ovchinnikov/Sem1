{
 "cells": [
  {
   "cell_type": "code",
   "execution_count": 17,
   "id": "af9380c0-eb4c-4012-a235-f147ed2c89f8",
   "metadata": {},
   "outputs": [
    {
     "name": "stdin",
     "output_type": "stream",
     "text": [
      " 1 2 3 4 6 7 9\n"
     ]
    },
    {
     "name": "stdout",
     "output_type": "stream",
     "text": [
      "['2', '1', '4', '3', '7', '6', '9']\n"
     ]
    }
   ],
   "source": [
    "a = input()\n",
    "a = a.split()\n",
    "for i in range(0,len(a)-1,2):\n",
    "    a.insert(i+1,a.pop(i))\n",
    "print(a)\n",
    "#проверил - работает на любых списках,универсальный ввод\n",
    "#сделать без заданной длины списка не смог("
   ]
  },
  {
   "cell_type": "code",
   "execution_count": 18,
   "id": "5c8355b6-dc8b-4ee1-b5da-85a326523e8e",
   "metadata": {},
   "outputs": [
    {
     "name": "stdin",
     "output_type": "stream",
     "text": [
      " 1 2 3 4 5\n"
     ]
    },
    {
     "name": "stdout",
     "output_type": "stream",
     "text": [
      "['5', '1', '2', '3', '4']\n"
     ]
    }
   ],
   "source": [
    "a = input()\n",
    "a = a.split()\n",
    "a.insert(0, a.pop(len(a)-1))\n",
    "print(a)"
   ]
  },
  {
   "cell_type": "code",
   "execution_count": 15,
   "id": "da8f6412-3903-4f6e-8e9f-d394ecf8301f",
   "metadata": {},
   "outputs": [
    {
     "name": "stdout",
     "output_type": "stream",
     "text": [
      "1\n",
      "4\n"
     ]
    }
   ],
   "source": [
    "a = input()\n",
    "a = a.split()\n",
    "for i in a:\n",
    "    if a.count(i)==1:\n",
    "        print(i)"
   ]
  },
  {
   "cell_type": "code",
   "execution_count": 19,
   "id": "863aff90-8d6a-4c62-a263-430e3cd49571",
   "metadata": {},
   "outputs": [
    {
     "name": "stdin",
     "output_type": "stream",
     "text": [
      " 1 2 3 2 3 3\n"
     ]
    },
    {
     "name": "stdout",
     "output_type": "stream",
     "text": [
      "3\n"
     ]
    }
   ],
   "source": [
    "a  = input()\n",
    "a = a.split()\n",
    "ma = 0\n",
    "for i in a:\n",
    "    if a.count(i)>ma:\n",
    "        ma = a.count(i)\n",
    "for i in a:\n",
    "    if a.count(i)==ma:\n",
    "        print(i)\n",
    "        break"
   ]
  },
  {
   "cell_type": "code",
   "execution_count": 35,
   "id": "e7343434-a893-4e6e-9c6f-defa6b5cc7cb",
   "metadata": {},
   "outputs": [
    {
     "name": "stdin",
     "output_type": "stream",
     "text": [
      " 3 asdfgh\n"
     ]
    },
    {
     "name": "stdout",
     "output_type": "stream",
     "text": [
      "0\n",
      "ds\n",
      "2\n",
      "gf\n",
      "4\n",
      "h\n",
      "6\n",
      "\n",
      "dsgfh\n"
     ]
    }
   ],
   "source": []
  },
  {
   "cell_type": "code",
   "execution_count": null,
   "id": "9d7f2959-e852-42f8-a8b0-eabeaadcac14",
   "metadata": {},
   "outputs": [],
   "source": []
  }
 ],
 "metadata": {
  "kernelspec": {
   "display_name": "Python 3 (ipykernel)",
   "language": "python",
   "name": "python3"
  },
  "language_info": {
   "codemirror_mode": {
    "name": "ipython",
    "version": 3
   },
   "file_extension": ".py",
   "mimetype": "text/x-python",
   "name": "python",
   "nbconvert_exporter": "python",
   "pygments_lexer": "ipython3",
   "version": "3.12.4"
  }
 },
 "nbformat": 4,
 "nbformat_minor": 5
}

{
 "cells": [
  {
   "cell_type": "code",
   "execution_count": 11,
   "id": "af9380c0-eb4c-4012-a235-f147ed2c89f8",
   "metadata": {},
   "outputs": [
    {
     "name": "stdin",
     "output_type": "stream",
     "text": [
      " 123\n"
     ]
    },
    {
     "name": "stdout",
     "output_type": "stream",
     "text": [
      "[3, 41]\n"
     ]
    }
   ],
   "source": [
    "a = int(input())\n",
    "def is_prime(n):\n",
    "    for i in range(2,int(n**0.5)+1):\n",
    "        if n%i == 0:\n",
    "            return False\n",
    "    return True\n",
    "def prost_mnozh(n):\n",
    "    c = []\n",
    "    for i in range(2,int(n**0.5)+1):\n",
    "        if n%i == 0 and is_prime(i):\n",
    "            c.append(i)\n",
    "        if n%i == 0 and is_prime(n//i):\n",
    "            c.append(n//i)\n",
    "    c = set(c)\n",
    "    c = list(c)\n",
    "    c.sort()\n",
    "    return c\n",
    "print(prost_mnozh(a))\n",
    "    "
   ]
  },
  {
   "cell_type": "code",
   "execution_count": null,
   "id": "5c8355b6-dc8b-4ee1-b5da-85a326523e8e",
   "metadata": {},
   "outputs": [],
   "source": []
  },
  {
   "cell_type": "code",
   "execution_count": null,
   "id": "da8f6412-3903-4f6e-8e9f-d394ecf8301f",
   "metadata": {},
   "outputs": [],
   "source": []
  },
  {
   "cell_type": "code",
   "execution_count": null,
   "id": "863aff90-8d6a-4c62-a263-430e3cd49571",
   "metadata": {},
   "outputs": [],
   "source": []
  },
  {
   "cell_type": "code",
   "execution_count": null,
   "id": "e7343434-a893-4e6e-9c6f-defa6b5cc7cb",
   "metadata": {},
   "outputs": [],
   "source": []
  },
  {
   "cell_type": "code",
   "execution_count": null,
   "id": "9d7f2959-e852-42f8-a8b0-eabeaadcac14",
   "metadata": {},
   "outputs": [],
   "source": []
  }
 ],
 "metadata": {
  "kernelspec": {
   "display_name": "Python 3 (ipykernel)",
   "language": "python",
   "name": "python3"
  },
  "language_info": {
   "codemirror_mode": {
    "name": "ipython",
    "version": 3
   },
   "file_extension": ".py",
   "mimetype": "text/x-python",
   "name": "python",
   "nbconvert_exporter": "python",
   "pygments_lexer": "ipython3",
   "version": "3.12.4"
  }
 },
 "nbformat": 4,
 "nbformat_minor": 5
}
